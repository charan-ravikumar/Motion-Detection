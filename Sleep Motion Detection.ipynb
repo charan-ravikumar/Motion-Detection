{
 "cells": [
  {
   "cell_type": "code",
   "execution_count": 10,
   "id": "faa7b2c3",
   "metadata": {},
   "outputs": [],
   "source": [
    "import datetime \n",
    "# from datetime import date\n",
    "from datetime import date \n",
    "import time \n",
    "\n",
    "import cv2\n",
    "\n",
    "font = cv2.FONT_HERSHEY_SIMPLEX"
   ]
  },
  {
   "cell_type": "code",
   "execution_count": 11,
   "id": "79fcb64a",
   "metadata": {},
   "outputs": [
    {
     "name": "stdout",
     "output_type": "stream",
     "text": [
      "video was released\n",
      "video was released\n",
      "video was released\n",
      "video was released\n",
      "video was released\n"
     ]
    }
   ],
   "source": [
    "\n",
    "\n",
    "is_movement = False\n",
    "\n",
    "cap = cv2.VideoCapture(0)\n",
    "\n",
    "mog = cv2.createBackgroundSubtractorMOG2()\n",
    "# start = tm.time()\n",
    "\n",
    "while True:\n",
    "    ret, frame = cap.read()\n",
    "    frame_height, frame_width, _ = frame.shape\n",
    "    dt = datetime.datetime.now()\n",
    "    date = date.today()\n",
    "\n",
    "    frame = cv2.putText(frame,str(datetime.datetime.now()),(10,30), font, 1,(255,255,255),2,cv2.LINE_AA)\n",
    "\n",
    "    h = dt.strftime(\"%H\")\n",
    "    m = dt.strftime(\"%M\")\n",
    "    s = dt.strftime(\"%S\")\n",
    "\n",
    "    \n",
    "#storing video name and file name for the violation to be saved\n",
    "    video_name = 'Violation on '+ str(date) +\"  at \"+ str(h) + \"-\"+ str(m) + \"-\"+ str(s)+'.mp4'\n",
    "    gray = cv2.cvtColor(frame, cv2.COLOR_BGR2GRAY)\n",
    "    \n",
    "    fgmask = mog.apply(gray)\n",
    "    \n",
    "    kernel = cv2.getStructuringElement(cv2.MORPH_ELLIPSE, (5, 5))\n",
    "    fgmask = cv2.erode(fgmask, kernel, iterations=1)\n",
    "    fgmask = cv2.dilate(fgmask, kernel, iterations=1)\n",
    "    \n",
    "    contours, hierarchy = cv2.findContours(fgmask, cv2.RETR_EXTERNAL, cv2.CHAIN_APPROX_SIMPLE)\n",
    "    \n",
    "    for contour in contours:\n",
    "        if cv2.contourArea(contour) > 10000:\n",
    "            # Draw bounding box around contour\n",
    "            x, y, w, h = cv2.boundingRect(contour)\n",
    "            cv2.rectangle(frame, (x, y), (x+w, y+h), (0, 255, 0), 2)\n",
    "            if is_movement == 0 :\n",
    "                writer= cv2.VideoWriter( video_name, cv2.VideoWriter_fourcc(*'mp4v'), 20, (int(frame_width),int(frame_height)))\n",
    "                is_movement=True\n",
    "            writer.write(frame)\n",
    "            now = time.time()\n",
    "\n",
    "        elif  cv2.contourArea(contour) < 100 and is_movement==True:\n",
    "            later = time.time()\n",
    "            difference = int(later - now)\n",
    "            if difference>5 and is_movement==True:\n",
    "                is_movement=False\n",
    "                writer.release()\n",
    "                print(\"video was released\")\n",
    "            \n",
    "            \n",
    "    \n",
    "    cv2.imshow('Motion Detection', frame)\n",
    "    if cv2.waitKey(1) == ord('q'):\n",
    "        writer.release()\n",
    "        break\n",
    "        \n",
    "cap.release()\n",
    "cv2.destroyAllWindows()"
   ]
  },
  {
   "cell_type": "code",
   "execution_count": 7,
   "id": "70653e4b",
   "metadata": {},
   "outputs": [
    {
     "name": "stdout",
     "output_type": "stream",
     "text": [
      "1691835608.29614\n"
     ]
    }
   ],
   "source": [
    "import time\n",
    "now = time.time()\n",
    "print(now)"
   ]
  },
  {
   "cell_type": "code",
   "execution_count": null,
   "id": "e02b0af1",
   "metadata": {},
   "outputs": [],
   "source": []
  }
 ],
 "metadata": {
  "kernelspec": {
   "display_name": "Python 3 (ipykernel)",
   "language": "python",
   "name": "python3"
  },
  "language_info": {
   "codemirror_mode": {
    "name": "ipython",
    "version": 3
   },
   "file_extension": ".py",
   "mimetype": "text/x-python",
   "name": "python",
   "nbconvert_exporter": "python",
   "pygments_lexer": "ipython3",
   "version": "3.10.9"
  }
 },
 "nbformat": 4,
 "nbformat_minor": 5
}
